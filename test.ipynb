{
 "cells": [
  {
   "attachments": {},
   "cell_type": "markdown",
   "metadata": {},
   "source": [
    "## Combining data- and task-driven approaches: use the representations learnt by the ResNet as input features to predict spikes\n",
    "### Train a ConvNet on top of ResNet's 3rd layer"
   ]
  },
  {
   "attachments": {},
   "cell_type": "markdown",
   "metadata": {},
   "source": [
    "If required: install torchvision with !pip install torchvision"
   ]
  },
  {
   "cell_type": "code",
   "execution_count": null,
   "metadata": {},
   "outputs": [],
   "source": [
    "import torch\n",
    "from torch import nn, optim\n",
    "from torch.utils.data import Dataset\n",
    "from torch.utils.data import DataLoader\n",
    "import numpy as np\n",
    "import matplotlib.pyplot as plt\n",
    "from sklearn.metrics import explained_variance_score\n",
    "import pandas as pd\n",
    "import torchvision.models as models"
   ]
  },
  {
   "attachments": {},
   "cell_type": "markdown",
   "metadata": {},
   "source": [
    "Load the data"
   ]
  },
  {
   "cell_type": "code",
   "execution_count": null,
   "metadata": {},
   "outputs": [],
   "source": [
    "import sys\n",
    "sys.path.append('./../')\n",
    "#!{sys.executable} -m pip install gdown h5py"
   ]
  },
  {
   "cell_type": "code",
   "execution_count": null,
   "metadata": {},
   "outputs": [],
   "source": [
    "from utils import load_it_data, visualize_img\n",
    "import matplotlib.pyplot as plt\n",
    "import numpy as np\n",
    "import gdown\n",
    "url = \"https://drive.google.com/file/d/1s6caFNRpyR9m7ZM6XEv_e8mcXT3_PnHS/view?usp=share_link\"\n",
    "output = \"IT_data.h5\""
   ]
  },
  {
   "cell_type": "code",
   "execution_count": null,
   "metadata": {},
   "outputs": [],
   "source": [
    "path_to_data = '' ## Insert the folder where the data is, if you download in the same folder as this notebook then leave it blank\n",
    "\n",
    "stimulus_train, stimulus_val, stimulus_test, objects_train, objects_val, objects_test, spikes_train, spikes_val = load_it_data(path_to_data)"
   ]
  },
  {
   "attachments": {},
   "cell_type": "markdown",
   "metadata": {},
   "source": [
    "Define the dataloaders"
   ]
  },
  {
   "cell_type": "code",
   "execution_count": null,
   "metadata": {},
   "outputs": [],
   "source": [
    "class Dataset_resnet(Dataset):\n",
    "    def __init__(self, stimulus, spikes):\n",
    "        self.features = stimulus\n",
    "        self.target = spikes\n",
    "\n",
    "    def __len__(self):\n",
    "        return len(self.features)\n",
    "\n",
    "    def __getitem__(self, idx):\n",
    "        X = self.features[idx]\n",
    "        y = self.target[idx]\n",
    "\n",
    "        return X, y\n",
    "    \n",
    "# Initialize the dataset and loader\n",
    "batch_size = 128\n",
    "\n",
    "training_data = Dataset_resnet(stimulus_train, spikes_train) \n",
    "val_data = Dataset_resnet(stimulus_val, spikes_val) \n",
    "\n",
    "train_dataloader = DataLoader(training_data, batch_size=batch_size, shuffle=True)\n",
    "val_dataloader = DataLoader(val_data, batch_size=288, shuffle=False)"
   ]
  },
  {
   "attachments": {},
   "cell_type": "markdown",
   "metadata": {},
   "source": [
    "Define the model"
   ]
  },
  {
   "cell_type": "code",
   "execution_count": null,
   "metadata": {},
   "outputs": [],
   "source": [
    "class Res_CNN(nn.Module):\n",
    "    def __init__(self, features_in, features_out):\n",
    "        super(Res_CNN, self).__init__()\n",
    "        \n",
    "        # Layer 1\n",
    "        self.conv1 = nn.Conv2d(in_channels=features_in, out_channels=512, kernel_size=3)\n",
    "        self.bn1 = nn.BatchNorm2d(num_features=512)\n",
    "        self.relu1 = nn.ReLU()\n",
    "        self.pool1 = nn.MaxPool2d(kernel_size=2, stride=2)\n",
    "\n",
    "        # Layer 2\n",
    "        self.conv2 = nn.Conv2d(in_channels=512, out_channels=256, kernel_size=3)\n",
    "        self.bn2 = nn.BatchNorm2d(num_features=256)\n",
    "        self.relu2 = nn.ReLU()\n",
    "        self.pool2 = nn.MaxPool2d(kernel_size=2, stride=2)\n",
    "        \n",
    "        # Linear layer 1\n",
    "        self.fc1 = nn.Linear(in_features=256*2*2, out_features=512) \n",
    "        self.relu = nn.ReLU()\n",
    "        \n",
    "        # Linear layer 2\n",
    "        self.fc2 = nn.Linear(in_features=512, out_features=features_out) \n",
    "        \n",
    "    def forward(self, x):\n",
    "        x = self.pool1(self.relu1(self.bn1(self.conv1(x)))) # conv 1\n",
    "        x = self.pool2(self.relu2(self.bn2(self.conv2(x)))) # conv 2\n",
    "    \n",
    "        x = self.relu(self.fc1(x.view(x.size(0), -1))) # linear 1\n",
    "        x = self.fc2(x)\n",
    "        \n",
    "        return x"
   ]
  },
  {
   "attachments": {},
   "cell_type": "markdown",
   "metadata": {},
   "source": [
    "Load the model"
   ]
  },
  {
   "cell_type": "code",
   "execution_count": null,
   "metadata": {},
   "outputs": [],
   "source": [
    "model = Res_CNN(features_in=1024, features_out=168) # 1024 is the number of features coming out from the ResNet's 3rd layer\n",
    "model.load_state_dict(torch.load('res_cnn_layer3.pth'))"
   ]
  },
  {
   "attachments": {},
   "cell_type": "markdown",
   "metadata": {},
   "source": [
    "Evaluate the model's performance on the validation set"
   ]
  },
  {
   "cell_type": "code",
   "execution_count": null,
   "metadata": {},
   "outputs": [],
   "source": [
    "def resnet_layer3(stimulus):\n",
    "    \"\"\"Foward pass in the ResNet up to layer 3\"\"\"\n",
    "    resnet = models.resnet50(pretrained=True)\n",
    "    resnet = resnet.cuda()\n",
    "    resnet.eval()\n",
    "    x = stimulus\n",
    "    for name, module in resnet.named_children():\n",
    "        module = module.cuda()\n",
    "        x = module(x)\n",
    "        if name == 'layer3':\n",
    "            spikes_repres = x\n",
    "            break\n",
    "    return spikes_repres"
   ]
  },
  {
   "cell_type": "code",
   "execution_count": 2,
   "metadata": {},
   "outputs": [
    {
     "ename": "NameError",
     "evalue": "name 'model' is not defined",
     "output_type": "error",
     "traceback": [
      "\u001b[0;31m---------------------------------------------------------------------------\u001b[0m",
      "\u001b[0;31mNameError\u001b[0m                                 Traceback (most recent call last)",
      "Cell \u001b[0;32mIn[2], line 1\u001b[0m\n\u001b[0;32m----> 1\u001b[0m model\u001b[39m.\u001b[39meval()\n\u001b[1;32m      2\u001b[0m \u001b[39mwith\u001b[39;00m torch\u001b[39m.\u001b[39mno_grad():\n\u001b[1;32m      3\u001b[0m     stim \u001b[39m=\u001b[39m torch\u001b[39m.\u001b[39mTensor(stimulus_val)\n",
      "\u001b[0;31mNameError\u001b[0m: name 'model' is not defined"
     ]
    }
   ],
   "source": [
    "model.eval()\n",
    "with torch.no_grad():\n",
    "    stim = torch.Tensor(stimulus_val)\n",
    "    spikes_pred = model(resnet_layer3(stim))\n",
    "    pred = spikes_pred"
   ]
  },
  {
   "cell_type": "code",
   "execution_count": null,
   "metadata": {},
   "outputs": [],
   "source": [
    "correlation_scores = []\n",
    "explained_variance_scores = []\n",
    "\n",
    "for i in range(spikes_val.shape[1]):\n",
    "    # Correlation\n",
    "    corr = np.corrcoef(spikes_val[:, i], pred[:, i])[0, 1]\n",
    "    correlation_scores.append(corr)\n",
    "\n",
    "    # Explained variance\n",
    "    explained_variance = explained_variance_score(spikes_val[:, i], pred[:, i])\n",
    "    explained_variance_scores.append(explained_variance)\n",
    "\n",
    "plt.bar(range(spikes_val.shape[1]), explained_variance_scores, color='blue')\n",
    "plt.xlabel('Neuron')\n",
    "plt.ylabel('Explained Variance')\n",
    "plt.title('EV using ResNet\"s 3rd layer representations')\n",
    "print(f'Mean EV: {np.mean(explained_variance_scores)}')"
   ]
  },
  {
   "cell_type": "code",
   "execution_count": null,
   "metadata": {},
   "outputs": [],
   "source": [
    "plt.bar(range(spikes_val.shape[1]), correlation_scores, color='blue')\n",
    "plt.xlabel('Neuron')\n",
    "plt.ylabel('Correlation')\n",
    "plt.title('Correlation using ResNet\"s 3rd layer representations')\n",
    "print(f'Mean correlation: {np.mean(correlation_scores)}')"
   ]
  }
 ],
 "metadata": {
  "kernelspec": {
   "display_name": "MyoChallenge3",
   "language": "python",
   "name": "python3"
  },
  "language_info": {
   "codemirror_mode": {
    "name": "ipython",
    "version": 3
   },
   "file_extension": ".py",
   "mimetype": "text/x-python",
   "name": "python",
   "nbconvert_exporter": "python",
   "pygments_lexer": "ipython3",
   "version": "3.8.16"
  },
  "orig_nbformat": 4
 },
 "nbformat": 4,
 "nbformat_minor": 2
}
